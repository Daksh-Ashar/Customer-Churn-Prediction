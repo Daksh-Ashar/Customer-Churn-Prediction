{
 "cells": [
  {
   "cell_type": "code",
   "execution_count": null,
   "metadata": {},
   "outputs": [
    {
     "name": "stderr",
     "output_type": "stream",
     "text": [
      "C:\\Users\\Daksh\\Anaconda3\\lib\\site-packages\\sklearn\\externals\\joblib\\__init__.py:15: DeprecationWarning: sklearn.externals.joblib is deprecated in 0.21 and will be removed in 0.23. Please import this functionality directly from joblib, which can be installed with: pip install joblib. If this warning is raised when loading pickled models, you may need to re-serialize those models with scikit-learn 0.21+.\n",
      "  warnings.warn(msg, category=DeprecationWarning)\n"
     ]
    },
    {
     "name": "stdout",
     "output_type": "stream",
     "text": [
      " * Serving Flask app \"__main__\" (lazy loading)\n",
      " * Environment: production\n",
      "   WARNING: This is a development server. Do not use it in a production deployment.\n",
      "   Use a production WSGI server instead.\n",
      " * Debug mode: off\n"
     ]
    },
    {
     "name": "stderr",
     "output_type": "stream",
     "text": [
      " * Running on http://127.0.0.1:5000/ (Press CTRL+C to quit)\n",
      "127.0.0.1 - - [27/Nov/2020 12:21:19] \"GET / HTTP/1.1\" 200 -\n",
      "127.0.0.1 - - [27/Nov/2020 12:22:03] \"POST /result HTTP/1.1\" 200 -\n",
      "127.0.0.1 - - [27/Nov/2020 12:22:11] \"POST /chart HTTP/1.1\" 200 -\n",
      "127.0.0.1 - - [27/Nov/2020 12:22:11] \"GET /static/images/plt.png HTTP/1.1\" 200 -\n"
     ]
    }
   ],
   "source": [
    "import pickle\n",
    "import numpy as np\n",
    "from sklearn.externals import joblib\n",
    "from flask import Flask, request,jsonify, render_template\n",
    "\n",
    "def ValuePredictor(to_predict_list): \n",
    "    to_predict = np.array(to_predict_list).reshape(1,18)\n",
    "    loaded_model = joblib.load(open(\"model.pkl\", \"rb\")) \n",
    "    result = loaded_model.predict(to_predict) \n",
    "    return result[0] \n",
    "  \n",
    "app=Flask(__name__)\n",
    "\n",
    "@app.route('/') \n",
    "def index():\n",
    "    return render_template('index.html')\n",
    "\n",
    "@app.route('/result', methods = ['POST']) \n",
    "def result(): \n",
    "    if request.method == 'POST': \n",
    "        to_predict_list = request.form.to_dict() \n",
    "        to_predict_list = list(to_predict_list.values())\n",
    "        to_predict_list = list(map(int, to_predict_list)) \n",
    "        result = ValuePredictor(to_predict_list)\n",
    "        if int(result)== 1: \n",
    "            prediction ='Customer will CHURN'\n",
    "            \n",
    "        else: \n",
    "            prediction ='Customer will NOT CHURN'            \n",
    "        return render_template(\"result.html\", prediction = prediction,result=result) \n",
    "\n",
    "@app.route('/chart', methods = ['POST']) \n",
    "def chart():\n",
    "    if request.method == 'POST':\n",
    "        return render_template(\"chart.html\",chart=chart) \n",
    "    \n",
    "if __name__==\"__main__\":\n",
    "    app.run()"
   ]
  },
  {
   "cell_type": "code",
   "execution_count": null,
   "metadata": {},
   "outputs": [],
   "source": []
  }
 ],
 "metadata": {
  "kernelspec": {
   "display_name": "Python 3",
   "language": "python",
   "name": "python3"
  },
  "language_info": {
   "codemirror_mode": {
    "name": "ipython",
    "version": 3
   },
   "file_extension": ".py",
   "mimetype": "text/x-python",
   "name": "python",
   "nbconvert_exporter": "python",
   "pygments_lexer": "ipython3",
   "version": "3.7.4"
  }
 },
 "nbformat": 4,
 "nbformat_minor": 2
}
