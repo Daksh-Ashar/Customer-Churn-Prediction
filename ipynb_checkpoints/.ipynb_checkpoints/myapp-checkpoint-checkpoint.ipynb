{
 "cells": [
  {
   "cell_type": "code",
   "execution_count": null,
   "metadata": {},
   "outputs": [
    {
     "name": "stdout",
     "output_type": "stream",
     "text": [
      " * Serving Flask app \"__main__\" (lazy loading)\n",
      " * Environment: production\n",
      "   WARNING: Do not use the development server in a production environment.\n",
      "   Use a production WSGI server instead.\n",
      " * Debug mode: off\n"
     ]
    },
    {
     "name": "stderr",
     "output_type": "stream",
     "text": [
      " * Running on http://127.0.0.1:5000/ (Press CTRL+C to quit)\n",
      "127.0.0.1 - - [28/May/2020 19:54:35] \"GET / HTTP/1.1\" 200 -\n",
      "127.0.0.1 - - [28/May/2020 19:54:35] \"GET /static/css/style.css HTTP/1.1\" 200 -\n",
      "127.0.0.1 - - [28/May/2020 19:54:36] \"GET /static/js/main.js HTTP/1.1\" 200 -\n",
      "127.0.0.1 - - [28/May/2020 19:54:36] \"GET /static/fonts/material-design-iconic-font/css/material-design-iconic-font.css HTTP/1.1\" 200 -\n",
      "127.0.0.1 - - [28/May/2020 19:54:36] \"GET /static/js/jquery.steps.js HTTP/1.1\" 200 -\n",
      "127.0.0.1 - - [28/May/2020 19:54:36] \"GET /static/images/form-wizard-bg.jpg HTTP/1.1\" 200 -\n",
      "127.0.0.1 - - [28/May/2020 19:54:36] \"GET /static/js/jquery-3.3.1.min.js HTTP/1.1\" 200 -\n",
      "127.0.0.1 - - [28/May/2020 19:54:36] \"GET /static/fonts/poppins/Poppins-Regular.ttf HTTP/1.1\" 200 -\n",
      "127.0.0.1 - - [28/May/2020 19:54:36] \"GET /static/fonts/poppins/Poppins-SemiBold.ttf HTTP/1.1\" 200 -\n",
      "127.0.0.1 - - [28/May/2020 19:54:36] \"GET /static/fonts/poppins/Poppins-Medium.ttf HTTP/1.1\" 200 -\n",
      "127.0.0.1 - - [28/May/2020 19:54:36] \"GET /favicon.ico HTTP/1.1\" 404 -\n",
      "127.0.0.1 - - [28/May/2020 19:55:36] \"POST /result HTTP/1.1\" 200 -\n",
      "127.0.0.1 - - [28/May/2020 19:55:36] \"GET /images/form-wizard-bg.jpg HTTP/1.1\" 404 -\n",
      "127.0.0.1 - - [28/May/2020 19:55:52] \"POST /chart HTTP/1.1\" 200 -\n",
      "127.0.0.1 - - [28/May/2020 19:55:52] \"GET /static/images/plt.png HTTP/1.1\" 200 -\n"
     ]
    }
   ],
   "source": [
    "import pickle\n",
    "import numpy as np\n",
    "from sklearn.externals import joblib\n",
    "from flask import Flask, request,jsonify, render_template\n",
    "\n",
    "def ValuePredictor(to_predict_list): \n",
    "    to_predict = np.array(to_predict_list).reshape(1,18)\n",
    "    loaded_model = joblib.load(open(\"model.pkl\", \"rb\")) \n",
    "    result = loaded_model.predict(to_predict) \n",
    "    return result[0] \n",
    "  \n",
    "app=Flask(__name__)\n",
    "\n",
    "@app.route('/') \n",
    "def index():\n",
    "    return render_template('index.html')\n",
    "\n",
    "@app.route('/result', methods = ['POST']) \n",
    "def result(): \n",
    "    if request.method == 'POST': \n",
    "        to_predict_list = request.form.to_dict() \n",
    "        to_predict_list = list(to_predict_list.values())\n",
    "        to_predict_list = list(map(int, to_predict_list)) \n",
    "        result = ValuePredictor(to_predict_list)         \n",
    "        if int(result)== 1: \n",
    "            prediction ='Customer will CHURN'\n",
    "            \n",
    "        else: \n",
    "            prediction ='Customer will NOT CHURN'            \n",
    "        return render_template(\"result.html\", prediction = prediction,result=result) \n",
    "\n",
    "@app.route('/chart', methods = ['POST']) \n",
    "def chart():\n",
    "    if request.method == 'POST':\n",
    "        return render_template(\"chart.html\",chart=chart) \n",
    "    \n",
    "if __name__==\"__main__\":\n",
    "    app.run()"
   ]
  },
  {
   "cell_type": "code",
   "execution_count": null,
   "metadata": {},
   "outputs": [],
   "source": [
    "@app.route('/chart', methods = ['POST']) \n",
    "def chart():"
   ]
  }
 ],
 "metadata": {
  "kernelspec": {
   "display_name": "Python 3",
   "language": "python",
   "name": "python3"
  },
  "language_info": {
   "codemirror_mode": {
    "name": "ipython",
    "version": 3
   },
   "file_extension": ".py",
   "mimetype": "text/x-python",
   "name": "python",
   "nbconvert_exporter": "python",
   "pygments_lexer": "ipython3",
   "version": "3.7.1"
  }
 },
 "nbformat": 4,
 "nbformat_minor": 2
}
